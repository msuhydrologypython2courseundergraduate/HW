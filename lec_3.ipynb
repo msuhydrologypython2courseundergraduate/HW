{
 "cells": [
  {
   "cell_type": "markdown",
   "id": "de99a5af",
   "metadata": {},
   "source": [
    "<span style=\"color: #54d94fff; font-style: italic; font-weight: bold;\">\n",
    "Домашняя работа\n",
    "</span>\n",
    "\n",
    "1) Напишите функцию, не импортируя модули, которая будет считать средние по списку с числами, но без максимального и минимального значения.\n",
    "2) Добавьте в функцию из первого задания возможность выбирать, какую доля наименьших и наибольших значений из списка не использовать при расчете среднего.\n",
    "3) Добавьте в функцию из первого задания обработку исключений, в частности, некоторые числа могут быть сохранены как строки, но некотороые строки будут последовательностями буквенных символов и в числа быть преобразованы не могут. "
   ]
  },
  {
   "cell_type": "markdown",
   "id": "6676e798",
   "metadata": {},
   "source": [
    "Цели функций\n",
    "> - 1) Избежать повторения кода в тексте программы, сделать ее более читаемой\n",
    "> - 2) Структурировать код\n",
    "> - 3) Облегчить его повторное использование, в т.ч. в виде библиотек/packages"
   ]
  },
  {
   "cell_type": "code",
   "execution_count": 1,
   "id": "dfd27315",
   "metadata": {},
   "outputs": [],
   "source": [
    "def fib(n):\n",
    "    \"\"\"Print a Fibonacci series up to n.\n",
    "    Ряд Фибоначчи представляет собой числовую последовательность,\n",
    "    первые значения которого равны 0 или 1,\n",
    "    а каждое последующее равно сумме двух предыдущих\"\"\"\n",
    "    a, b = 0, 1\n",
    "    while a < n:\n",
    "        print(a)\n",
    "        a, b = b, a + b"
   ]
  },
  {
   "cell_type": "code",
   "execution_count": 2,
   "id": "2b288d60",
   "metadata": {},
   "outputs": [
    {
     "name": "stdout",
     "output_type": "stream",
     "text": [
      "0\n",
      "1\n",
      "1\n",
      "2\n",
      "3\n",
      "5\n",
      "8\n"
     ]
    }
   ],
   "source": [
    "fib(10)"
   ]
  },
  {
   "cell_type": "code",
   "execution_count": 3,
   "id": "96c9420f",
   "metadata": {},
   "outputs": [],
   "source": [
    "def fib(n):\n",
    "    \"\"\"Print a Fibonacci series up to n.\n",
    "    Ряд Фибоначчи представляет собой числовую последовательность,\n",
    "    первые значения которого равны 0 или 1,\n",
    "    а каждое последующее равно сумме двух предыдущих\"\"\"\n",
    "    a, b = 0, 1\n",
    "    while a < n:\n",
    "        a, b = b, a + b\n",
    "    return a, b"
   ]
  },
  {
   "cell_type": "code",
   "execution_count": 3,
   "id": "4a43aff8",
   "metadata": {},
   "outputs": [],
   "source": [
    "c = fib(10)"
   ]
  },
  {
   "cell_type": "code",
   "execution_count": null,
   "id": "aca597ee",
   "metadata": {},
   "outputs": [],
   "source": [
    "del c, fib"
   ]
  },
  {
   "cell_type": "code",
   "execution_count": 5,
   "id": "df731515",
   "metadata": {},
   "outputs": [
    {
     "name": "stdout",
     "output_type": "stream",
     "text": [
      "Variable   Type        Data/Info\n",
      "--------------------------------\n",
      "c          tuple       n=2\n",
      "fib        function    <function fib at 0x000002362368ED40>\n"
     ]
    }
   ],
   "source": [
    "%whos"
   ]
  },
  {
   "cell_type": "code",
   "execution_count": 10,
   "id": "1e83886d",
   "metadata": {},
   "outputs": [],
   "source": [
    "a = 1\n",
    "def print_number():\n",
    "    a = 2\n",
    "    b = 5\n",
    "    print(a)"
   ]
  },
  {
   "cell_type": "code",
   "execution_count": 11,
   "id": "a0078a22",
   "metadata": {},
   "outputs": [
    {
     "name": "stdout",
     "output_type": "stream",
     "text": [
      "2\n"
     ]
    }
   ],
   "source": [
    "print_number()"
   ]
  },
  {
   "cell_type": "code",
   "execution_count": 4,
   "id": "73d94d40",
   "metadata": {},
   "outputs": [
    {
     "ename": "NameError",
     "evalue": "name 'a' is not defined",
     "output_type": "error",
     "traceback": [
      "\u001b[1;31m---------------------------------------------------------------------------\u001b[0m",
      "\u001b[1;31mNameError\u001b[0m                                 Traceback (most recent call last)",
      "Cell \u001b[1;32mIn[4], line 1\u001b[0m\n\u001b[1;32m----> 1\u001b[0m \u001b[38;5;28mprint\u001b[39m(\u001b[43ma\u001b[49m)\n",
      "\u001b[1;31mNameError\u001b[0m: name 'a' is not defined"
     ]
    }
   ],
   "source": [
    "print(a)"
   ]
  },
  {
   "cell_type": "code",
   "execution_count": 15,
   "id": "66618ea9",
   "metadata": {},
   "outputs": [
    {
     "name": "stdout",
     "output_type": "stream",
     "text": [
      "Variable       Type        Data/Info\n",
      "------------------------------------\n",
      "a              int         1\n",
      "fib            function    <function fib at 0x000002362368ED40>\n",
      "print_number   function    <function print_number at 0x00000236236D5EE0>\n"
     ]
    }
   ],
   "source": [
    "%whos"
   ]
  },
  {
   "cell_type": "markdown",
   "id": "8edd9f47",
   "metadata": {},
   "source": [
    "Мы видим, есть переменная a=1, т.е. не то значение что было опредленно в теле функции\n",
    "\n",
    "Нет переменной b=5, опредленной в теле функции."
   ]
  },
  {
   "cell_type": "markdown",
   "id": "4b533ecb",
   "metadata": {},
   "source": [
    "В python одно и тоже имя могут иметь разные переменные, но эти переменные находятся в разных подпространствах."
   ]
  },
  {
   "cell_type": "markdown",
   "id": "87b75473",
   "metadata": {},
   "source": [
    "<img src=\"https://files.realpython.com/media/t.fd7bd78bbb47.png\" width=\"400\" height=\"300\" />"
   ]
  },
  {
   "cell_type": "code",
   "execution_count": null,
   "id": "72c3d666",
   "metadata": {},
   "outputs": [
    {
     "data": {
      "text/plain": [
       "['ArithmeticError',\n",
       " 'AssertionError',\n",
       " 'AttributeError',\n",
       " 'BaseException',\n",
       " 'BaseExceptionGroup',\n",
       " 'BlockingIOError',\n",
       " 'BrokenPipeError',\n",
       " 'BufferError',\n",
       " 'BytesWarning',\n",
       " 'ChildProcessError',\n",
       " 'ConnectionAbortedError',\n",
       " 'ConnectionError',\n",
       " 'ConnectionRefusedError',\n",
       " 'ConnectionResetError',\n",
       " 'DeprecationWarning',\n",
       " 'EOFError',\n",
       " 'Ellipsis',\n",
       " 'EncodingWarning',\n",
       " 'EnvironmentError',\n",
       " 'Exception',\n",
       " 'ExceptionGroup',\n",
       " 'False',\n",
       " 'FileExistsError',\n",
       " 'FileNotFoundError',\n",
       " 'FloatingPointError',\n",
       " 'FutureWarning',\n",
       " 'GeneratorExit',\n",
       " 'IOError',\n",
       " 'ImportError',\n",
       " 'ImportWarning',\n",
       " 'IndentationError',\n",
       " 'IndexError',\n",
       " 'InterruptedError',\n",
       " 'IsADirectoryError',\n",
       " 'KeyError',\n",
       " 'KeyboardInterrupt',\n",
       " 'LookupError',\n",
       " 'MemoryError',\n",
       " 'ModuleNotFoundError',\n",
       " 'NameError',\n",
       " 'None',\n",
       " 'NotADirectoryError',\n",
       " 'NotImplemented',\n",
       " 'NotImplementedError',\n",
       " 'OSError',\n",
       " 'OverflowError',\n",
       " 'PendingDeprecationWarning',\n",
       " 'PermissionError',\n",
       " 'ProcessLookupError',\n",
       " 'RecursionError',\n",
       " 'ReferenceError',\n",
       " 'ResourceWarning',\n",
       " 'RuntimeError',\n",
       " 'RuntimeWarning',\n",
       " 'StopAsyncIteration',\n",
       " 'StopIteration',\n",
       " 'SyntaxError',\n",
       " 'SyntaxWarning',\n",
       " 'SystemError',\n",
       " 'SystemExit',\n",
       " 'TabError',\n",
       " 'TimeoutError',\n",
       " 'True',\n",
       " 'TypeError',\n",
       " 'UnboundLocalError',\n",
       " 'UnicodeDecodeError',\n",
       " 'UnicodeEncodeError',\n",
       " 'UnicodeError',\n",
       " 'UnicodeTranslateError',\n",
       " 'UnicodeWarning',\n",
       " 'UserWarning',\n",
       " 'ValueError',\n",
       " 'Warning',\n",
       " 'WindowsError',\n",
       " 'ZeroDivisionError',\n",
       " '__IPYTHON__',\n",
       " '__build_class__',\n",
       " '__debug__',\n",
       " '__doc__',\n",
       " '__import__',\n",
       " '__loader__',\n",
       " '__name__',\n",
       " '__package__',\n",
       " '__spec__',\n",
       " 'abs',\n",
       " 'aiter',\n",
       " 'all',\n",
       " 'anext',\n",
       " 'any',\n",
       " 'ascii',\n",
       " 'bin',\n",
       " 'bool',\n",
       " 'breakpoint',\n",
       " 'bytearray',\n",
       " 'bytes',\n",
       " 'callable',\n",
       " 'chr',\n",
       " 'classmethod',\n",
       " 'compile',\n",
       " 'complex',\n",
       " 'copyright',\n",
       " 'credits',\n",
       " 'delattr',\n",
       " 'dict',\n",
       " 'dir',\n",
       " 'display',\n",
       " 'divmod',\n",
       " 'enumerate',\n",
       " 'eval',\n",
       " 'exec',\n",
       " 'execfile',\n",
       " 'filter',\n",
       " 'float',\n",
       " 'format',\n",
       " 'frozenset',\n",
       " 'get_ipython',\n",
       " 'getattr',\n",
       " 'globals',\n",
       " 'hasattr',\n",
       " 'hash',\n",
       " 'help',\n",
       " 'hex',\n",
       " 'id',\n",
       " 'input',\n",
       " 'int',\n",
       " 'isinstance',\n",
       " 'issubclass',\n",
       " 'iter',\n",
       " 'len',\n",
       " 'license',\n",
       " 'list',\n",
       " 'locals',\n",
       " 'map',\n",
       " 'max',\n",
       " 'memoryview',\n",
       " 'min',\n",
       " 'next',\n",
       " 'object',\n",
       " 'oct',\n",
       " 'open',\n",
       " 'ord',\n",
       " 'pow',\n",
       " 'print',\n",
       " 'property',\n",
       " 'range',\n",
       " 'repr',\n",
       " 'reversed',\n",
       " 'round',\n",
       " 'runfile',\n",
       " 'set',\n",
       " 'setattr',\n",
       " 'slice',\n",
       " 'sorted',\n",
       " 'staticmethod',\n",
       " 'str',\n",
       " 'sum',\n",
       " 'super',\n",
       " 'tuple',\n",
       " 'type',\n",
       " 'vars',\n",
       " 'zip']"
      ]
     },
     "execution_count": 18,
     "metadata": {},
     "output_type": "execute_result"
    }
   ],
   "source": [
    "# Встроенные имена, их не следует перезаписывать. Последствия малопредсказуемы.\n",
    "dir(__builtins__)"
   ]
  },
  {
   "cell_type": "code",
   "execution_count": 19,
   "id": "21c330df",
   "metadata": {},
   "outputs": [],
   "source": [
    "#Глобальные переменные - все те имена что мы задаем\n",
    "# в основном коде и те что мы импортируем с пакетами\n",
    "d = 15\n",
    "import math"
   ]
  },
  {
   "cell_type": "code",
   "execution_count": 20,
   "id": "d92af4f6",
   "metadata": {},
   "outputs": [
    {
     "name": "stdout",
     "output_type": "stream",
     "text": [
      "Variable       Type        Data/Info\n",
      "------------------------------------\n",
      "a              int         1\n",
      "d              int         15\n",
      "math           module      <module 'math' (built-in)>\n",
      "print_number   function    <function print_number at 0x00000236236D5EE0>\n"
     ]
    }
   ],
   "source": [
    "%whos"
   ]
  },
  {
   "cell_type": "markdown",
   "id": "553256a1",
   "metadata": {},
   "source": [
    "локальные имена. Видны не везде, только в теле функции. Функция, при обращении к переменной,\n",
    "ищет их сначала в локальном пространстве, если не находит - в глобальном."
   ]
  },
  {
   "cell_type": "code",
   "execution_count": null,
   "id": "94c90bc4",
   "metadata": {},
   "outputs": [
    {
     "name": "stdout",
     "output_type": "stream",
     "text": [
      "Hi from the 'local' scope!\n",
      "Hi from the 'nonlocal' scope!\n",
      "Hi from the 'global' scope!\n"
     ]
    }
   ],
   "source": [
    "global_variable = \"global\"\n",
    "\n",
    "def outer_func():\n",
    "     # Nonlocal scope\n",
    "    nonlocal_variable = \"nonlocal\"\n",
    "    def inner_func():\n",
    "         # Local scope\n",
    "        local_variable = \"local\"\n",
    "        print(f\"Hi from the '{local_variable}' scope!\")\n",
    "        print(f\"Hi from the '{nonlocal_variable}' scope!\")\n",
    "        print(f\"Hi from the '{global_variable}' scope!\")\n",
    "    inner_func()\n",
    "\n",
    "outer_func()\n"
   ]
  },
  {
   "cell_type": "code",
   "execution_count": null,
   "id": "c5e6dc28",
   "metadata": {},
   "outputs": [
    {
     "name": "stdout",
     "output_type": "stream",
     "text": [
      "Hi from the 'global' scope!\n",
      "Hi from the 'nonlocal' scope!\n",
      "Hi from the '12345' scope!\n"
     ]
    }
   ],
   "source": [
    "global_variable = \"global\"\n",
    "print(f\"Hi from the '{global_variable}' scope!\")\n",
    "def outer_func():\n",
    "     # Nonlocal scope\n",
    "    global_variable = \"nonlocal\"\n",
    "    print(f\"Hi from the '{global_variable}' scope!\")\n",
    "    def inner_func():\n",
    "         # Local scope\n",
    "        local_variable = \"local\"\n",
    "        global_variable = \"12345\"\n",
    "        print(f\"Hi from the '{global_variable}' scope!\")\n",
    "    inner_func()\n",
    "\n",
    "outer_func()"
   ]
  },
  {
   "cell_type": "markdown",
   "id": "cd6b7bf2",
   "metadata": {},
   "source": [
    "Вернемся к рассмотрению функций"
   ]
  },
  {
   "cell_type": "code",
   "execution_count": 28,
   "id": "568b8957",
   "metadata": {},
   "outputs": [],
   "source": [
    "#импортируем функции которые понадобятся для составления нашей функции\n",
    "from math import exp, cos, sqrt"
   ]
  },
  {
   "cell_type": "code",
   "execution_count": 31,
   "id": "67f3d4f9",
   "metadata": {},
   "outputs": [],
   "source": [
    "def Nexp(a, b=-3, c=[1,2,3,4,5]):\n",
    "    return [a*exp(x)+b for x in c]"
   ]
  },
  {
   "cell_type": "code",
   "execution_count": 36,
   "id": "8018ca2f",
   "metadata": {},
   "outputs": [
    {
     "data": {
      "text/plain": [
       "[-0.2817181715409549,\n",
       " 4.38905609893065,\n",
       " 17.085536923187668,\n",
       " 51.598150033144236,\n",
       " 145.4131591025766]"
      ]
     },
     "execution_count": 36,
     "metadata": {},
     "output_type": "execute_result"
    }
   ],
   "source": [
    "Nexp(1)"
   ]
  },
  {
   "cell_type": "code",
   "execution_count": 37,
   "id": "27e4c169",
   "metadata": {},
   "outputs": [
    {
     "data": {
      "text/plain": [
       "[0.7182818284590451,\n",
       " 5.38905609893065,\n",
       " 18.085536923187668,\n",
       " 52.598150033144236,\n",
       " 146.4131591025766]"
      ]
     },
     "execution_count": 37,
     "metadata": {},
     "output_type": "execute_result"
    }
   ],
   "source": [
    "Nexp(1, -2)"
   ]
  },
  {
   "cell_type": "code",
   "execution_count": 38,
   "id": "2fde7176",
   "metadata": {},
   "outputs": [],
   "source": [
    "# В качестве аргументов могут выступать и функции\n",
    "# В этом примере это функция sqrt\n",
    "def Nsqrt(func, a, b=[1,2,3,4,5], c=3):\n",
    "    return [a*func(x*c) for x in b]"
   ]
  },
  {
   "cell_type": "code",
   "execution_count": 39,
   "id": "650935c6",
   "metadata": {},
   "outputs": [
    {
     "data": {
      "text/plain": [
       "[22.0, 31.112698372208094, 38.1051177665153, 44.0, 49.193495504995376]"
      ]
     },
     "execution_count": 39,
     "metadata": {},
     "output_type": "execute_result"
    }
   ],
   "source": [
    "# sqrt - function\n",
    "# b - by default\n",
    "# c - c=3 by default, changed\n",
    "Nsqrt(sqrt,22, c=1)"
   ]
  },
  {
   "cell_type": "code",
   "execution_count": 40,
   "id": "cce17326",
   "metadata": {},
   "outputs": [],
   "source": [
    "#Если мы хотим создать нескоклько наборов парметров и хранить их?\n",
    "parameters=(sqrt,22, [1,2,3,4,5], 1)"
   ]
  },
  {
   "cell_type": "code",
   "execution_count": 41,
   "id": "f51f2666",
   "metadata": {},
   "outputs": [
    {
     "ename": "TypeError",
     "evalue": "Nsqrt() missing 1 required positional argument: 'a'",
     "output_type": "error",
     "traceback": [
      "\u001b[1;31m---------------------------------------------------------------------------\u001b[0m",
      "\u001b[1;31mTypeError\u001b[0m                                 Traceback (most recent call last)",
      "Cell \u001b[1;32mIn[41], line 2\u001b[0m\n\u001b[0;32m      1\u001b[0m \u001b[38;5;66;03m#не работает, мы сообщаем в качестве аргументов кортеж\u001b[39;00m\n\u001b[1;32m----> 2\u001b[0m \u001b[43mNsqrt\u001b[49m\u001b[43m(\u001b[49m\u001b[43mparameters\u001b[49m\u001b[43m)\u001b[49m\n",
      "\u001b[1;31mTypeError\u001b[0m: Nsqrt() missing 1 required positional argument: 'a'"
     ]
    }
   ],
   "source": [
    "#не работает, мы сообщаем в качестве аргументов кортеж\n",
    "Nsqrt(parameters)"
   ]
  },
  {
   "cell_type": "code",
   "execution_count": 42,
   "id": "d666ceea",
   "metadata": {},
   "outputs": [
    {
     "data": {
      "text/plain": [
       "[22.0, 31.112698372208094, 38.1051177665153, 44.0, 49.193495504995376]"
      ]
     },
     "execution_count": 42,
     "metadata": {},
     "output_type": "execute_result"
    }
   ],
   "source": [
    "# значения нужно распаковать\n",
    "Nsqrt(*parameters)"
   ]
  },
  {
   "cell_type": "markdown",
   "id": "f2619476",
   "metadata": {},
   "source": [
    "*args — это сокращение от «arguments» (аргументы), а **kwargs — сокращение от «keyword arguments» (именованные аргументы)."
   ]
  },
  {
   "cell_type": "markdown",
   "id": "5f9f210c",
   "metadata": {},
   "source": [
    "<br> если вы не знаете как много парметров будет сообщено функции \n",
    "<br> вы можете использовать запись *args чтобы задать их позиционно\n",
    "<br> или **kwargs чтобы задать их поименно\n",
    "<br> функция будет работать и без этих аргументов, но результат будет другой"
   ]
  },
  {
   "cell_type": "code",
   "execution_count": 44,
   "id": "19f5a388",
   "metadata": {},
   "outputs": [
    {
     "name": "stdout",
     "output_type": "stream",
     "text": [
      "Owner Name: Jonathan\n",
      "dog: Brock\n",
      "fish: ['Larry', 'Curly', 'Moe']\n",
      "turtle: Shelldon\n"
     ]
    }
   ],
   "source": [
    "# https://habr.com/ru/companies/ruvds/articles/482464/\n",
    "def printPetNames(owner, **pets):\n",
    "   print(f\"Owner Name: {owner}\")\n",
    "   for pet,name in pets.items():\n",
    "      print(f\"{pet}: {name}\")\n",
    "printPetNames(\"Jonathan\", dog=\"Brock\", \n",
    "              fish=[\"Larry\", \"Curly\", \"Moe\"], turtle=\"Shelldon\")"
   ]
  },
  {
   "cell_type": "code",
   "execution_count": null,
   "id": "dc23a4ac",
   "metadata": {},
   "outputs": [],
   "source": [
    "#импортируем функции которые понадобятся для составления нашей функции\n",
    "from math import exp, cos, sqrt"
   ]
  },
  {
   "cell_type": "code",
   "execution_count": null,
   "id": "17c8a47e",
   "metadata": {},
   "outputs": [],
   "source": [
    "def Nexp(a, b=-3, c=[1,2,3,4,5]):\n",
    "    return [a*exp(x)+b for x in c]"
   ]
  },
  {
   "cell_type": "code",
   "execution_count": null,
   "id": "488d3041",
   "metadata": {},
   "outputs": [
    {
     "data": {
      "text/plain": [
       "[-0.2817181715409549,\n",
       " 4.38905609893065,\n",
       " 17.085536923187668,\n",
       " 51.598150033144236,\n",
       " 145.4131591025766]"
      ]
     },
     "metadata": {},
     "output_type": "display_data"
    }
   ],
   "source": [
    "Nexp(1)"
   ]
  },
  {
   "cell_type": "code",
   "execution_count": null,
   "id": "bb5ed19f",
   "metadata": {},
   "outputs": [],
   "source": [
    "# В качестве аргументов могут выступать и функции\n",
    "# В этом примере это функция sqrt\n",
    "def Nsqrt(func, a, b=[1,2,3,4,5], c=3):\n",
    "    return [a*func(x*c) for x in b]"
   ]
  },
  {
   "cell_type": "code",
   "execution_count": null,
   "id": "bc3b1312",
   "metadata": {},
   "outputs": [
    {
     "data": {
      "text/plain": [
       "[22.0, 31.112698372208094, 38.1051177665153, 44.0, 49.193495504995376]"
      ]
     },
     "metadata": {},
     "output_type": "display_data"
    }
   ],
   "source": [
    "# sqrt - function\n",
    "# b - by default\n",
    "# c - c=3 by default, changed\n",
    "Nsqrt(sqrt,22, c=1)"
   ]
  },
  {
   "cell_type": "code",
   "execution_count": null,
   "id": "16314808",
   "metadata": {},
   "outputs": [],
   "source": [
    "#Если мы хотим создать нескоклько наборов парметров и хранить их?\n",
    "parameters=(sqrt,22, [1,2,3,4,5], 1)"
   ]
  },
  {
   "cell_type": "code",
   "execution_count": null,
   "id": "7495a91c",
   "metadata": {},
   "outputs": [
    {
     "ename": "TypeError",
     "evalue": "Nsqrt() missing 1 required positional argument: 'a'",
     "output_type": "error",
     "traceback": [
      "\u001b[1;31m---------------------------------------------------------------------------\u001b[0m\n",
      "\n",
      "\u001b[1;31mTypeError\u001b[0m                                 Traceback (most recent call last)\n",
      "\n",
      "\u001b[1;32mc:\\google\\2023fall\\lectures and seminars\\programming\\3\\Lesson_3.ipynb Cell 16\u001b[0m line \u001b[0;36m2\n",
      "\n",
      "\u001b[0;32m      <a href='vscode-notebook-cell:/c%3A/google/2023fall/lectures%20and%20seminars/programming/3/Lesson_3.ipynb#Y143sZmlsZQ%3D%3D?line=0'>1</a>\u001b[0m \u001b[39m#не работает, мы сообщаем в качестве аргументов кортеж\u001b[39;00m\n",
      "\n",
      "\u001b[1;32m----> <a href='vscode-notebook-cell:/c%3A/google/2023fall/lectures%20and%20seminars/programming/3/Lesson_3.ipynb#Y143sZmlsZQ%3D%3D?line=1'>2</a>\u001b[0m Nsqrt(parameters)\n",
      "\n",
      "\n",
      "\n",
      "\u001b[1;31mTypeError\u001b[0m: Nsqrt() missing 1 required positional argument: 'a'"
     ]
    }
   ],
   "source": [
    "#не работает, мы сообщаем в качестве аргументов кортеж\n",
    "Nsqrt(parameters)"
   ]
  },
  {
   "cell_type": "code",
   "execution_count": null,
   "id": "c0fad591",
   "metadata": {},
   "outputs": [
    {
     "data": {
      "text/plain": [
       "[22.0, 31.112698372208094, 38.1051177665153, 44.0, 49.193495504995376]"
      ]
     },
     "metadata": {},
     "output_type": "display_data"
    }
   ],
   "source": [
    "# значения нужно распаковать\n",
    "Nsqrt(*parameters)"
   ]
  },
  {
   "cell_type": "code",
   "execution_count": null,
   "id": "7534bece",
   "metadata": {},
   "outputs": [],
   "source": [
    "# если вы не знаете как много парметров будет сообщено\n",
    "# функции вы можете использовать запись *args чтобы задать их позиционно\n",
    "# или **kwargs чтобы задать их поименно\n",
    "# функция будет работать и без этих аргументов, но результат будет другой"
   ]
  },
  {
   "cell_type": "code",
   "execution_count": null,
   "id": "69fd8563",
   "metadata": {},
   "outputs": [
    {
     "name": "stdout",
     "output_type": "stream",
     "text": [
      "Owner Name: Jonathan\n",
      "dog: Brock\n",
      "fish: ['Larry', 'Curly', 'Moe']\n",
      "turtle: Shelldon\n"
     ]
    }
   ],
   "source": [
    "# https://habr.com/ru/companies/ruvds/articles/482464/\n",
    "def printPetNames(owner, **pets):\n",
    "   print(f\"Owner Name: {owner}\")\n",
    "   for pet,name in pets.items():\n",
    "      print(f\"{pet}: {name}\")\n",
    "printPetNames(\"Jonathan\", dog=\"Brock\", \n",
    "              fish=[\"Larry\", \"Curly\", \"Moe\"], turtle=\"Shelldon\")"
   ]
  },
  {
   "cell_type": "markdown",
   "id": "b5d791d1",
   "metadata": {},
   "source": [
    "##### <p style=\"text-align:center\"> Обработка исключений"
   ]
  },
  {
   "cell_type": "code",
   "execution_count": null,
   "id": "2fe2db4a",
   "metadata": {},
   "outputs": [
    {
     "ename": "TypeError",
     "evalue": "descriptor 'upper' for 'str' objects doesn't apply to a 'int' object",
     "output_type": "error",
     "traceback": [
      "\u001b[1;31m---------------------------------------------------------------------------\u001b[0m\n",
      "\n",
      "\n",
      "\n",
      "\u001b[1;31mTypeError\u001b[0m                                 Traceback (most recent call last)\n",
      "\n",
      "\n",
      "\n",
      "\u001b[1;32mc:\\google\\2023fall\\lectures and seminars\\programming\\2\\Lesson_2.ipynb Cell 22\u001b[0m line \u001b[0;36m2\n",
      "\n",
      "\n",
      "\n",
      "\u001b[0;32m      <a href='vscode-notebook-cell:/c%3A/google/2023fall/lectures%20and%20seminars/programming/2/Lesson_2.ipynb#X34sZmlsZQ%3D%3D?line=0'>1</a>\u001b[0m a\u001b[39m=\u001b[39m[\u001b[39m\"\u001b[39m\u001b[39ma\u001b[39m\u001b[39m\"\u001b[39m, \u001b[39m\"\u001b[39m\u001b[39md\u001b[39m\u001b[39m\"\u001b[39m, \u001b[39m2\u001b[39m,\u001b[39m\"\u001b[39m\u001b[39mt\u001b[39m\u001b[39m\"\u001b[39m]\n",
      "\n",
      "\n",
      "\n",
      "\u001b[1;32m----> <a href='vscode-notebook-cell:/c%3A/google/2023fall/lectures%20and%20seminars/programming/2/Lesson_2.ipynb#X34sZmlsZQ%3D%3D?line=1'>2</a>\u001b[0m [\u001b[39mstr\u001b[39;49m\u001b[39m.\u001b[39;49mupper(x) \u001b[39mfor\u001b[39;49;00m x \u001b[39min\u001b[39;49;00m a]\n",
      "\n",
      "\n",
      "\n",
      "\n",
      "\n",
      "\n",
      "\n",
      "\u001b[1;32mc:\\google\\2023fall\\lectures and seminars\\programming\\2\\Lesson_2.ipynb Cell 22\u001b[0m line \u001b[0;36m2\n",
      "\n",
      "\n",
      "\n",
      "\u001b[0;32m      <a href='vscode-notebook-cell:/c%3A/google/2023fall/lectures%20and%20seminars/programming/2/Lesson_2.ipynb#X34sZmlsZQ%3D%3D?line=0'>1</a>\u001b[0m a\u001b[39m=\u001b[39m[\u001b[39m\"\u001b[39m\u001b[39ma\u001b[39m\u001b[39m\"\u001b[39m, \u001b[39m\"\u001b[39m\u001b[39md\u001b[39m\u001b[39m\"\u001b[39m, \u001b[39m2\u001b[39m,\u001b[39m\"\u001b[39m\u001b[39mt\u001b[39m\u001b[39m\"\u001b[39m]\n",
      "\n",
      "\n",
      "\n",
      "\u001b[1;32m----> <a href='vscode-notebook-cell:/c%3A/google/2023fall/lectures%20and%20seminars/programming/2/Lesson_2.ipynb#X34sZmlsZQ%3D%3D?line=1'>2</a>\u001b[0m [\u001b[39mstr\u001b[39;49m\u001b[39m.\u001b[39;49mupper(x) \u001b[39mfor\u001b[39;00m x \u001b[39min\u001b[39;00m a]\n",
      "\n",
      "\n",
      "\n",
      "\n",
      "\n",
      "\n",
      "\n",
      "\u001b[1;31mTypeError\u001b[0m: descriptor 'upper' for 'str' objects doesn't apply to a 'int' object"
     ]
    }
   ],
   "source": [
    "a=[\"a\", \"d\", 2,\"t\"]\n",
    "[str.upper(x) for x in a]"
   ]
  },
  {
   "cell_type": "code",
   "execution_count": null,
   "id": "7615baa9",
   "metadata": {},
   "outputs": [
    {
     "name": "stdout",
     "output_type": "stream",
     "text": [
      "ошибка 2\n"
     ]
    }
   ],
   "source": [
    "for i in a:\n",
    "    try:\n",
    "        str.upper(i)\n",
    "    except:\n",
    "        print('ошибка', i)"
   ]
  },
  {
   "cell_type": "code",
   "execution_count": null,
   "id": "e18bccae",
   "metadata": {},
   "outputs": [],
   "source": [
    "# enumerate - если хотим обращаться как к самому объекту так и его индексу\n",
    "for i,j in enumerate(a):#i - index, j - value\n",
    "    try:\n",
    "        str.upper(j)\n",
    "    except:\n",
    "        print('ошибка на индексе', j)\n",
    "        # pass"
   ]
  },
  {
   "cell_type": "code",
   "execution_count": null,
   "id": "3a52d028",
   "metadata": {},
   "outputs": [
    {
     "name": "stdout",
     "output_type": "stream",
     "text": [
      "ошибки нет A\n",
      "ошибки нет D\n",
      "ошибка на индексе 2  там не тот тип переменной -  <class 'int'>\n",
      "ошибки нет T\n"
     ]
    }
   ],
   "source": [
    "for i,j in enumerate(a):#i - index, j - value\n",
    "    try:\n",
    "        str.upper(j)\n",
    "    except ValueError:\n",
    "        print('ошибка на индексе', j, \" там не та величина, а \", i)\n",
    "    except TypeError:\n",
    "        print('ошибка на индексе', j, \" там не тот тип переменной - \", type(i))\n",
    "    else: \n",
    "        print(\"ошибки нет\", str.upper(j))"
   ]
  },
  {
   "cell_type": "code",
   "execution_count": null,
   "id": "2330dd53",
   "metadata": {},
   "outputs": [
    {
     "name": "stdout",
     "output_type": "stream",
     "text": [
      "A 0\n",
      "D 1\n",
      "код продолжается\n"
     ]
    }
   ],
   "source": [
    "# т.к. suppress применяется в теле with, то вне его TypeError\n",
    "# продолжит возникать\n",
    "# цикл, однако, прервался. Мы просто не получили сообщение на печать\n",
    "\n",
    "from contextlib import suppress\n",
    "\n",
    "with suppress(TypeError):\n",
    "    for i,j in enumerate(a):#i - index, j - value\n",
    "        print(str.upper(j), i)\n",
    "print(\"код продолжается\")"
   ]
  },
  {
   "cell_type": "markdown",
   "id": "e8520f50",
   "metadata": {},
   "source": [
    "***импорт***"
   ]
  },
  {
   "cell_type": "markdown",
   "id": "d4fbdd66",
   "metadata": {},
   "source": [
    "<br> import module\n",
    "<br> from module import one, two, three\n",
    "<br> from module import *\n",
    "<br> from module.one import one_plus"
   ]
  },
  {
   "cell_type": "code",
   "execution_count": null,
   "id": "07243f3a",
   "metadata": {},
   "outputs": [],
   "source": [
    "import site"
   ]
  },
  {
   "cell_type": "code",
   "execution_count": null,
   "id": "3f0d2739",
   "metadata": {},
   "outputs": [],
   "source": [
    "# модуи импортируются лишь один раз\n",
    "import math"
   ]
  },
  {
   "cell_type": "code",
   "execution_count": null,
   "id": "45e2d0cf",
   "metadata": {},
   "outputs": [
    {
     "data": {
      "text/plain": [
       "['c:\\\\Users\\\\vadim\\\\.conda\\\\envs\\\\stat',\n",
       " 'c:\\\\Users\\\\vadim\\\\.conda\\\\envs\\\\stat\\\\Lib\\\\site-packages']"
      ]
     },
     "metadata": {},
     "output_type": "display_data"
    }
   ],
   "source": [
    "site.getsitepackages()"
   ]
  }
 ],
 "metadata": {
  "kernelspec": {
   "display_name": "stats",
   "language": "python",
   "name": "python3"
  },
  "language_info": {
   "codemirror_mode": {
    "name": "ipython",
    "version": 3
   },
   "file_extension": ".py",
   "mimetype": "text/x-python",
   "name": "python",
   "nbconvert_exporter": "python",
   "pygments_lexer": "ipython3",
   "version": "3.11.5"
  }
 },
 "nbformat": 4,
 "nbformat_minor": 5
}
