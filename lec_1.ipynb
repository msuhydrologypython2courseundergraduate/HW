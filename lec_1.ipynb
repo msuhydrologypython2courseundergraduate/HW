{
 "cells": [
  {
   "cell_type": "markdown",
   "id": "738a0a65",
   "metadata": {},
   "source": [
    "***Домашняя работа***\n",
    "\n",
    "1) Используя лишь функцию len() и базовые арифмитические операции напишите код который округляет число поступающие на вход, через функцию input, до трех значащих цифр.\n",
    "2) Добавьте в задание 1 возможность указывать желаемое количество значащих цифр при округлении.\n",
    "3) Создайте генератор случайных арифмитических выражений, имеющих синтаксический смысл, ограничьтесь 7 операциями, результат вывидите в виде строки, к примеру "
   ]
  },
  {
   "cell_type": "markdown",
   "id": "f85e070c",
   "metadata": {},
   "source": [
    "<span style=\"color: #ffadadff\">\n",
    "<span style=\"color: #54d94fff; font-style: italic; font-weight: bold;\">\n",
    "Основные моменты\n",
    "</span>\n",
    "<br> 1. Преподаватель - Григорьев Вадим Юрьевич, Ломов Виктор Александрович.\n",
    "<br> 2. Основной навык - автоматизация обработки информации.\n",
    "<br> 3. Курс занимает два семестра, в конце каждого семестра принимается зачет. Для получения зачета нужно в течение семестра 3-4 раза на занятии рассказать как работает написанный вами в качестве домашнего задания код.\n",
    "<br> 4. Использование AI и интернета не ограничено.\n",
    "<br> 5. Попробуем организовать работу через github. *Нужно зарегестрироваться в github, прислать список ников вместе с ФИО*.\n",
    "<br> 6. В качестве IDE использую VSC, причем программы в файлах формата ipynb. Чтобы их открывать в вашей IDE (spyder, pycharm ...) вам скорее всего понадобится установить соответствующие расширение. Если у вас anaconda можно открыть из jupyter notebook или jupyter lab. Можно без IDE, в браузере через google colab.\n",
    "</span>"
   ]
  },
  {
   "cell_type": "markdown",
   "id": "9078a4e4",
   "metadata": {},
   "source": [
    "<center> \n",
    "Программа\n",
    "<center>\n",
    "Ввод - утверждения+вычисления/набор инструкций - вывод"
   ]
  },
  {
   "cell_type": "markdown",
   "id": "62278e55",
   "metadata": {},
   "source": [
    "Язык программирования во многом представляет собой набор базовых  и объектов и набор правил как из простых инструкций и объектов создавать более сложные.\n",
    "\n",
    "В обычном языке смысл передается через слова, но мы как люди понимаем контекст употребления слов. К пример текст Anton2000 мы воспримим как Антон две тысячи, а не Антон два ноль ноль ноль, поскольку мы понимаем что 2000 это скорее всего год. Аналогичная ситуация и с операторами \"-\" это дефис или минус? Поэтому в языке программирования один и тот же символ может обозначать число, текст или оператор. Есть определнные синтаксические правила того какие комбинации допустимы а какие нет. Так 5/\"0 не имеет смысла не зависимо от того, воспринимаем мы 5 и 0 как числа или нет. Есть еще семаника языка, какой смысл имеет то или иное выражение. Так 3*5 имеет смысл и если 5 это число и если это текст. В первом случае мы получим 15, во втором \"555\".\n",
    "Соответственно, ошибки могут быть синтаксическими"
   ]
  },
  {
   "cell_type": "code",
   "execution_count": null,
   "id": "cfafe527",
   "metadata": {},
   "outputs": [],
   "source": [
    "5Э*=3"
   ]
  },
  {
   "cell_type": "markdown",
   "id": "c22a51ae",
   "metadata": {},
   "source": [
    "Семантические ошибки"
   ]
  },
  {
   "cell_type": "code",
   "execution_count": null,
   "id": "043c7cd6",
   "metadata": {},
   "outputs": [],
   "source": [
    "5/0"
   ]
  },
  {
   "cell_type": "markdown",
   "id": "1f584e12",
   "metadata": {},
   "source": [
    "И самый плохой вариант - код выполняется, но делает не то что вы задумали."
   ]
  },
  {
   "cell_type": "code",
   "execution_count": null,
   "id": "2ca3b7a6",
   "metadata": {},
   "outputs": [
    {
     "data": {
      "text/plain": [
       "'-4*6//11**3+3+1%7'"
      ]
     },
     "metadata": {},
     "output_type": "display_data"
    }
   ],
   "source": []
  },
  {
   "cell_type": "markdown",
   "id": "801f4840",
   "metadata": {},
   "source": [
    "## Типы данных\n",
    "![Типы данных](https://habrastorage.org/getpro/habr/upload_files/c6c/055/4d1/c6c0554d10e2298309fca6471eb62958.png)"
   ]
  },
  {
   "cell_type": "markdown",
   "id": "61858fa8",
   "metadata": {},
   "source": [
    "чтобы проверить к какому типу относится тот или иной объект можно воспользоваться функцией type"
   ]
  },
  {
   "cell_type": "code",
   "execution_count": null,
   "id": "39d2bf60",
   "metadata": {},
   "outputs": [],
   "source": [
    "print(\n",
    "    type(True),\n",
    "    type(\"1\"),\n",
    "    type(1)\n",
    ")"
   ]
  },
  {
   "cell_type": "markdown",
   "id": "fd78a5f2",
   "metadata": {},
   "source": [
    "Можно менять тип объектов"
   ]
  },
  {
   "cell_type": "code",
   "execution_count": null,
   "id": "c1d5e55b",
   "metadata": {},
   "outputs": [
    {
     "name": "stdout",
     "output_type": "stream",
     "text": [
      "<class 'int'>\n",
      "<class 'complex'>\n"
     ]
    }
   ],
   "source": [
    "print(type(12))\n",
    "print(type(complex(12)))\n",
    "type(complex(12))"
   ]
  },
  {
   "cell_type": "markdown",
   "id": "d48a392e",
   "metadata": {},
   "source": [
    "Выражения (+, - ...) комбинируют операторы и объекты для того чтобы получить новый объект. "
   ]
  },
  {
   "cell_type": "markdown",
   "id": "211b504a",
   "metadata": {},
   "source": [
    "##### Числа и операции над ними"
   ]
  },
  {
   "cell_type": "code",
   "execution_count": null,
   "id": "ff543110",
   "metadata": {},
   "outputs": [
    {
     "name": "stdout",
     "output_type": "stream",
     "text": [
      "2\n",
      "2\n",
      "8\n",
      "1.0\n",
      "1.4\n",
      "1\n",
      "7.010416666666667\n"
     ]
    }
   ],
   "source": [
    "# Два главных типа - целые числа (int) и дробные (float)\n",
    "# Операции сложения, умножения и возведедния в степень целых чисел не выводят нас\n",
    "# из класса целых чисел\n",
    "print(1+1)\n",
    "print(2*1)\n",
    "print(2**3)\n",
    "#деление выводит\n",
    "print(2/2)\n",
    "#float\n",
    "print(1.4)\n",
    "#float можно преобразовать в int. Тогда отбросится целая часть\n",
    "print(int(1.3))\n",
    "#Порядок выполнения операций как в арифметике - сначала возведедние в степень, потом деление,\n",
    "# умножение, вычитание сложение\n",
    "print(2**-3/12+7)"
   ]
  },
  {
   "cell_type": "code",
   "execution_count": null,
   "id": "e52130d2",
   "metadata": {},
   "outputs": [
    {
     "name": "stdout",
     "output_type": "stream",
     "text": [
      "4\n",
      "1\n"
     ]
    }
   ],
   "source": [
    "print(79%75) #остаток от деления\n",
    "print(79//75) #целочисленное деление"
   ]
  },
  {
   "cell_type": "code",
   "execution_count": null,
   "id": "4c2b586b",
   "metadata": {},
   "outputs": [
    {
     "name": "stdout",
     "output_type": "stream",
     "text": [
      "0.0\t1.0\t1.0\t2.0\t2.0\n"
     ]
    }
   ],
   "source": [
    "print(10//10.4, 11//10.4, 20//10.4, 21//10.4, 31//10.4, sep=\"\\t\")"
   ]
  },
  {
   "cell_type": "markdown",
   "id": "bdc7ab70",
   "metadata": {},
   "source": [
    "<br> Иеархия операторов\n",
    "<br> PEMDAS\n",
    "<br> P - Parentheses, then\n",
    "<br> E - Exponents, then\n",
    "<br> MD - Multiplication and division, left to right, then\n",
    "<br> AS - Addition and subtraction, left to right"
   ]
  },
  {
   "cell_type": "code",
   "execution_count": 4,
   "id": "b139d2e3",
   "metadata": {},
   "outputs": [
    {
     "data": {
      "text/plain": [
       "8"
      ]
     },
     "execution_count": 4,
     "metadata": {},
     "output_type": "execute_result"
    }
   ],
   "source": [
    "# Какой порядок?\n",
    "8 +2* 1 // 5"
   ]
  },
  {
   "cell_type": "code",
   "execution_count": null,
   "id": "5294d2f1",
   "metadata": {},
   "outputs": [
    {
     "data": {
      "text/plain": [
       "7"
      ]
     },
     "execution_count": 3,
     "metadata": {},
     "output_type": "execute_result"
    }
   ],
   "source": [
    "\"-4*6//11**3+3+1%7+-3%7\""
   ]
  },
  {
   "cell_type": "code",
   "execution_count": null,
   "id": "cd5ce3ea",
   "metadata": {},
   "outputs": [
    {
     "data": {
      "text/plain": [
       "12000.0"
      ]
     },
     "metadata": {},
     "output_type": "display_data"
    }
   ],
   "source": [
    "#экспоненциальный формат записи\n",
    "12e3"
   ]
  },
  {
   "cell_type": "code",
   "execution_count": null,
   "id": "5c9237ac",
   "metadata": {},
   "outputs": [],
   "source": [
    "# можно использовать нижние подчеркивание чтобы разделять разряды\n",
    "55_123_111+2"
   ]
  },
  {
   "cell_type": "markdown",
   "id": "d864e753",
   "metadata": {},
   "source": [
    "В питоне мы можем присваивать объектам имена (переменные). Делается это с помощью оператора присвоения \"=\". Это \"равно\" не тоже что в математике, мы не утверждаем что что-то равно чему-то, мы делаем так что что-то (справа от =) теперь имеет имя (то что слева от =). Использование переменных делает код куда более читаемым и облегчает его написание. Также имена можно повторно использовать."
   ]
  },
  {
   "cell_type": "code",
   "execution_count": 1,
   "id": "58290a9e",
   "metadata": {},
   "outputs": [
    {
     "name": "stdout",
     "output_type": "stream",
     "text": [
      "4\n"
     ]
    },
    {
     "data": {
      "text/plain": [
       "6"
      ]
     },
     "execution_count": 1,
     "metadata": {},
     "output_type": "execute_result"
    }
   ],
   "source": [
    "a = 4\n",
    "print(a)\n",
    "a=6\n",
    "a"
   ]
  },
  {
   "cell_type": "markdown",
   "id": "ff641207",
   "metadata": {},
   "source": [
    "##### Строки"
   ]
  },
  {
   "cell_type": "code",
   "execution_count": null,
   "id": "3199c24f",
   "metadata": {},
   "outputs": [
    {
     "name": "stdout",
     "output_type": "stream",
     "text": [
      "abcd\n",
      "jdnn\n",
      "abcabc\n",
      "bsd\n",
      "absd\n",
      "absd\n",
      "bsdef\n",
      "be\n",
      "be\n"
     ]
    }
   ],
   "source": [
    "#строки, strings\n",
    "print(\"abcd\")"
   ]
  },
  {
   "cell_type": "code",
   "execution_count": null,
   "id": "bd58831c",
   "metadata": {},
   "outputs": [],
   "source": [
    "#строки можно складывать\n",
    "print(\"jd\"+\"nn\")\n",
    "#Троки можно умножать на целые числа (пусть n), тогда получается строка чье содержимое дублирует\n",
    "# содержимое изначальной строки n раз\n",
    "print(\"abc\"*2)\n",
    "#К отдельным элементам строки можно обращаться.\n",
    "#Как и для ряда других объектов в питоне это можно сделать написав объект и далее в \n",
    "#квадратных скобках указав порядковый номер объекта, начиная с 0\n",
    "\"фтвр\"[0]\n",
    "#можно обратиться к нескольки символам одновременно, сделать срез (slice). Для этого через\n",
    "#Двоеточие нужно указать крайнюю левую и правую границы области что вы хотите получить.\n",
    "# Крайняя левая и правая граница это 0 и n соответственно, где n это количество\n",
    "# объектов в строке.\n",
    "print(\"absde\"[1:4])\n",
    "#Если вы хотите выбрать строку от начала или до самого конца то эти границы (0 и n)\n",
    "# можно не обозначать\n",
    "print(\"absde\"[:4])\n",
    "# питон также поддерживает индексирование с конца объекта к началу, тогда нумерация начинаяется\n",
    "# с -1\n",
    "print(\"absde\"[:-1])\n",
    "# эти два способа индексирования можно комбинировать в одном выражении\n",
    "print(\"absdefg\"[1:-1])\n",
    "# Можно выбирать не все элементы подряд а через 1, 2 и т.д. Шаг указывается после \n",
    "# второго многотчия\n",
    "print(\"absdefg\"[1:-1:3])\n",
    "print(\"absdefg\"[1::3])\n",
    "#Строки не изменяемы - вы не можете обратится к какому-то элементу "
   ]
  },
  {
   "cell_type": "code",
   "execution_count": null,
   "id": "5de51100",
   "metadata": {},
   "outputs": [],
   "source": [
    "https://symbl.cc/en/unicode-table/#supplemental-mathematical-operators"
   ]
  },
  {
   "cell_type": "code",
   "execution_count": null,
   "id": "d4ca467f",
   "metadata": {},
   "outputs": [],
   "source": [
    "chr(8800)"
   ]
  },
  {
   "cell_type": "code",
   "execution_count": null,
   "id": "51190c96",
   "metadata": {},
   "outputs": [],
   "source": [
    "chr"
   ]
  },
  {
   "cell_type": "code",
   "execution_count": null,
   "id": "9b103840",
   "metadata": {},
   "outputs": [],
   "source": [
    "\"\\ua640\""
   ]
  },
  {
   "cell_type": "code",
   "execution_count": null,
   "id": "e70466cb",
   "metadata": {},
   "outputs": [
    {
     "data": {
      "text/plain": [
       "'⽉'"
      ]
     },
     "metadata": {},
     "output_type": "display_data"
    }
   ],
   "source": [
    "\"\\u2F49\""
   ]
  },
  {
   "cell_type": "code",
   "execution_count": 1,
   "id": "4077f892",
   "metadata": {},
   "outputs": [
    {
     "name": "stdout",
     "output_type": "stream",
     "text": [
      "5 + 3 = 8\n",
      "5 + 3 = 8\n"
     ]
    }
   ],
   "source": [
    "a=5\n",
    "b=3\n",
    "print(\"{0} + {1} = 8\".format(a,b))\n",
    "print(f\"{a} + {b} = {a + b}\")"
   ]
  },
  {
   "cell_type": "markdown",
   "id": "aa3dd47f",
   "metadata": {},
   "source": [
    "##### Булевы переменные (boolean datatype)"
   ]
  },
  {
   "cell_type": "code",
   "execution_count": null,
   "id": "e809f870",
   "metadata": {},
   "outputs": [
    {
     "name": "stdout",
     "output_type": "stream",
     "text": [
      "False\n",
      "True\n",
      "2\n"
     ]
    }
   ],
   "source": [
    "#Их две\n",
    "True\n",
    "False\n",
    "#Когда вы создаете некоторое утверждение, результатом его проверки является True или False\n",
    "print(1==2)\n",
    "#Питон может воспринимать, если операция подразумевает булеву переменную,\n",
    "# любой объект как нее. Все объекты кроме 0 и ряда других воспринимаются как True\n",
    "print(bool(\"word\"))\n",
    "#Если производить с ними арифметические операции то True воспринимается как 1, \n",
    "# а False как 0\n",
    "print(True+True-False)"
   ]
  },
  {
   "cell_type": "markdown",
   "id": "9c8d37fd",
   "metadata": {},
   "source": [
    "Строки состоят из других строк, но нужно также хранить и наборы объектов других типов"
   ]
  },
  {
   "cell_type": "markdown",
   "id": "3ddd27ba",
   "metadata": {},
   "source": [
    "<br> {} - dict/словарь\n",
    "<br> [] - list/список\n",
    "<br> () - tuple/кортеж\n",
    "<br> Ключевые различия - кортеж, как и строка, не изменяем. Можно лишь на основе старого кортежа создать новый. Список и словари изменяемы, в них можно заменять элементы. В кортеже и списке обращение к элементам идет по их позиции (аналогично строке), в слова - по ключевому слову. Эти три структуры могут хранить внтри себя любые типы данных, в том числе другие списки и т.д."
   ]
  },
  {
   "cell_type": "markdown",
   "id": "5d605410",
   "metadata": {},
   "source": [
    "Преимуществом неизменямости является более быстрое обращение к объекту в памяти компьютера"
   ]
  },
  {
   "cell_type": "code",
   "execution_count": null,
   "id": "a322a9a5",
   "metadata": {},
   "outputs": [],
   "source": [
    "z=(1,4,\"hfh\",(\"s\", year))"
   ]
  },
  {
   "cell_type": "code",
   "execution_count": null,
   "id": "d9ae3b9e",
   "metadata": {},
   "outputs": [
    {
     "name": "stdout",
     "output_type": "stream",
     "text": [
      "(1, 4, 'hfh', ('s', 2019))\n",
      "('s', 2019)\n",
      "s\n"
     ]
    }
   ],
   "source": [
    "print(z)\n",
    "print(z[-1])\n",
    "print(z[-1][0])"
   ]
  },
  {
   "cell_type": "code",
   "execution_count": null,
   "id": "576f4f7a",
   "metadata": {},
   "outputs": [
    {
     "name": "stdout",
     "output_type": "stream",
     "text": [
      "[1, 4, 'hfh', ('s', 2019)]\n",
      "[1, 'four', 'hfh', ('s', 2019)]\n"
     ]
    }
   ],
   "source": [
    "y=[1,4,\"hfh\",(\"s\", year)]\n",
    "print(y)\n",
    "y[1]=\"four\"\n",
    "print(y)"
   ]
  },
  {
   "cell_type": "code",
   "execution_count": null,
   "id": "0af06e68",
   "metadata": {},
   "outputs": [
    {
     "name": "stdout",
     "output_type": "stream",
     "text": [
      "[1]\n",
      "[1, [1, 2, 3]]\n"
     ]
    }
   ],
   "source": [
    "#Мы часто используем списки чтобы хранить результаты выполнения каких-то операций.\n",
    "# Тогда полученный объект часто добавляется в список с помощью функции append\n",
    "# при это объект добавляется в конц списка\n",
    "q=[]\n",
    "q.append(1)\n",
    "print(q)\n",
    "q.append([1,2,3])\n",
    "print(q)"
   ]
  },
  {
   "cell_type": "code",
   "execution_count": null,
   "id": "104cc0f7",
   "metadata": {},
   "outputs": [
    {
     "name": "stdout",
     "output_type": "stream",
     "text": [
      "Monday\n",
      "dict_keys(['Mon', 'Tue'])\n",
      "dict_items([('Mon', 'Monday'), ('Tue', 'Tuesday')])\n"
     ]
    },
    {
     "data": {
      "text/plain": [
       "dict_values(['Monday', 'Tuesday'])"
      ]
     },
     "metadata": {},
     "output_type": "display_data"
    }
   ],
   "source": [
    "#словарь \n",
    "weekday = {'Mon':'Monday', 'Tue':'Tuesday'}\n",
    "print(weekday[\"Mon\"])\n",
    "print(weekday.keys())\n",
    "print(weekday.items())\n",
    "weekday.values()"
   ]
  },
  {
   "cell_type": "code",
   "execution_count": null,
   "id": "ce3a5c9b",
   "metadata": {},
   "outputs": [
    {
     "name": "stdout",
     "output_type": "stream",
     "text": [
      "2017\n",
      "2023\n"
     ]
    }
   ],
   "source": [
    "d = {\n",
    "    'year': 2017,\n",
    "    'month': 10,\n",
    "    'day':20\n",
    "}\n",
    "print(d[\"year\"])\n",
    "d |= {'year': 2023}\n",
    "print(d[\"year\"])"
   ]
  },
  {
   "cell_type": "code",
   "execution_count": null,
   "id": "42a5de45",
   "metadata": {},
   "outputs": [],
   "source": [
    "# set. Не содержит повторяющихся элементов\n",
    "a={1,4,\"book\",\"book\"}\n",
    "a"
   ]
  },
  {
   "cell_type": "markdown",
   "id": "f0f3b43c",
   "metadata": {},
   "source": [
    "##### прочие операторы"
   ]
  },
  {
   "cell_type": "markdown",
   "id": "048f8a75",
   "metadata": {},
   "source": [
    "***assignments operations***\n",
    "<br> приписываем значение переменной слева, возможно вместе с каким-то действием\n",
    "a=b\n",
    "a+=b (add and assign)\n",
    "-,*,/,//,%,**,&,| ..."
   ]
  },
  {
   "cell_type": "markdown",
   "id": "6026fc4e",
   "metadata": {},
   "source": [
    "***comparison operations***\n",
    "<br> сравнивают и возвращают True либо False\n",
    "a==b\n",
    "!=,<,>,<=,=>,"
   ]
  },
  {
   "cell_type": "markdown",
   "id": "41a9c368",
   "metadata": {},
   "source": [
    "***logical operations***\n",
    "<br> комбинируют выражения\n",
    "and (&), or (|), ==, not"
   ]
  },
  {
   "cell_type": "markdown",
   "id": "80949c00",
   "metadata": {},
   "source": [
    "***identity operations***\n",
    "<br> определяет, ссылаются ли переменные на один объект (имеют ли объекты один id - положение объекта в памяти компьютера. Речь не идет о значении. Неизменяемые объекты, если равны по значению имеют один id, изменяемые могут иметь одно значение но иметь разные id). Доступ к базовым объектам вроде чисел идет не через ссылку а напрямую через значение.\n",
    "\n",
    "<br> is, is not"
   ]
  },
  {
   "cell_type": "code",
   "execution_count": null,
   "id": "65d6ca18",
   "metadata": {},
   "outputs": [
    {
     "data": {
      "text/plain": [
       "140719010448360"
      ]
     },
     "metadata": {},
     "output_type": "display_data"
    }
   ],
   "source": [
    "id(7)"
   ]
  }
 ],
 "metadata": {
  "kernelspec": {
   "display_name": "stat",
   "language": "python",
   "name": "python3"
  },
  "language_info": {
   "codemirror_mode": {
    "name": "ipython",
    "version": 3
   },
   "file_extension": ".py",
   "mimetype": "text/x-python",
   "name": "python",
   "nbconvert_exporter": "python",
   "pygments_lexer": "ipython3",
   "version": "3.11.3"
  }
 },
 "nbformat": 4,
 "nbformat_minor": 5
}
