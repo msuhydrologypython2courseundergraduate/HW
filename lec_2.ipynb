{
 "cells": [
  {
   "cell_type": "markdown",
   "metadata": {
    "vscode": {
     "languageId": "raw"
    }
   },
   "source": [
    "<span style=\"color:rgb(140, 207, 8)\">\n",
    "Домашние задание\n",
    "</span>\n",
    "\n",
    "1) В стационарных условиях (расход и уровень не меняются) величина понижения уровня подземных вод в районе колодца описывается уравнением Тейса, которое может быть записано как \n",
    "\n",
    "$h_{0}-h={\\frac{Q}{2\\pi*T}}*\\ln(\\frac {R}{r})$, где\n",
    "\n",
    "$h_{0}$ - уровень в естественных условиях\n",
    "<br> h - уровень воды в колодце\n",
    "<br> Q - величина откачки из колодца\n",
    "<br> R - расстояние на котором влияние откачки на уровень сходит на нет\n",
    "<br> r - расстояние до рассматриваемой точки (монтиторинговой скважины)\n",
    "<br> Т - проводимость горизонта (коэффициент Дарси на мощность горизонта)\n",
    "\n",
    "Все единицы в СИ\n",
    "\n",
    "Пусть R = $10^6 м$, $h_{0}$ = 0, $h$ = 0.3 м, r = 20 м\n",
    "\n",
    "Рассчитайте чему равна проводимость водоносного горизонта если уровень стабилизировался при Q = 1, 2, ..., 100 л/с\n",
    "\n",
    "2) Выполните задание 1 используя lambda и map\n",
    "3) Рассмотрим канал в форме полукруга. Уклон $I = 10^{-6}$, коэффициент шероховатости = 0.05. Воспользуясь формулой Шези и формулой Маннинга, найдите при какой средней глубине в канале расход в нем составит 77,34 $м^3/c$. решение найдите с точностью до 1 л/с. Используйте конструкцию с while."
   ]
  },
  {
   "cell_type": "markdown",
   "metadata": {},
   "source": [
    "#### Базовые конструкции"
   ]
  },
  {
   "cell_type": "markdown",
   "metadata": {},
   "source": [
    "##### if-elif-else"
   ]
  },
  {
   "cell_type": "raw",
   "metadata": {},
   "source": [
    "if \"выражение котрое возвращает True или False\":\n",
    "    какое-то действие\n",
    "elif \"Другое выражение, может совпадать с предыдущим\":\n",
    "    какое-то действие\n",
    "else:#если не одно из условий описанных выше не было выполнено\n",
    "    какое-то действие"
   ]
  },
  {
   "cell_type": "code",
   "execution_count": null,
   "metadata": {},
   "outputs": [
    {
     "name": "stdout",
     "output_type": "stream",
     "text": [
      "что-то случилось\n",
      "\n"
     ]
    }
   ],
   "source": [
    "#Пример когда условие не выполняется\n",
    "if year == 2017:\n",
    "    print ('год петуха')\n",
    "elif year == 2016:\n",
    "    print ('год дракона')\n",
    "else:\n",
    "    print ('что-то случилось')"
   ]
  },
  {
   "cell_type": "code",
   "execution_count": null,
   "metadata": {},
   "outputs": [
    {
     "name": "stdout",
     "output_type": "stream",
     "text": [
      "привет\n"
     ]
    }
   ],
   "source": [
    "#Пример когда условие выполняется\n",
    "name = 'masha'\n",
    "if name == 'masha':\n",
    "    print ('привет')\n",
    "elif name == 'sasha':\n",
    "    print ('кажется, я тебя знаю')\n",
    "else:\n",
    "    print ('я тебя не знаю')"
   ]
  },
  {
   "cell_type": "code",
   "execution_count": null,
   "metadata": {},
   "outputs": [
    {
     "name": "stdout",
     "output_type": "stream",
     "text": [
      "5\n"
     ]
    }
   ],
   "source": [
    "#возможна более краткая запись\n",
    "# print(что-то если истинно if условие else что-то если условие не выполняется)\n",
    "print(5 if 2==2 else 1)\n"
   ]
  },
  {
   "cell_type": "markdown",
   "metadata": {},
   "source": [
    "#### Итерация/looping. Циклы for и while"
   ]
  },
  {
   "cell_type": "code",
   "execution_count": null,
   "metadata": {},
   "outputs": [],
   "source": [
    "l=[1,3,6,11,19]"
   ]
  },
  {
   "cell_type": "code",
   "execution_count": null,
   "metadata": {},
   "outputs": [
    {
     "name": "stdout",
     "output_type": "stream",
     "text": [
      "1\n",
      "3\n",
      "6\n",
      "11\n",
      "19\n",
      "ok\n",
      "ok\n",
      "ok\n",
      "ok\n",
      "ok\n",
      "0\n",
      "1\n",
      "2\n",
      "3\n",
      "4\n"
     ]
    }
   ],
   "source": [
    "#цикл перебирает элементы по одному, при это к текущему элменту можно обратиться по имени\n",
    "# стоящем после for\n",
    "for element in l:\n",
    "    print (element)\n",
    "#В принципе к элментам можно вообще не обращаться\n",
    "for element in l:\n",
    "    print (\"ok\")\n",
    "#Часто бывает удобно совмещать цикл for с функцией range(), создающий\n",
    "# последовательность целых чисел от 0 до указанного числе (не включая), и функции len()\n",
    "# возвращающей количество элементов в объекте (объекты во вложенных объектах не считаются)\n",
    "#так вы можете обращаться к элментам по их индексам\n",
    "for i in range(len(l)):\n",
    "    print(i)"
   ]
  },
  {
   "cell_type": "raw",
   "metadata": {
    "vscode": {
     "languageId": "raw"
    }
   },
   "source": [
    "While выполняет какое-то действие уазанное в его теле до тех пор\n",
    "пока условие стоящие после while остается истинным"
   ]
  },
  {
   "cell_type": "code",
   "execution_count": null,
   "metadata": {},
   "outputs": [],
   "source": [
    "top = 50\n",
    "m = []\n",
    "i = 0\n",
    "while i < top:\n",
    "    if i % 10 == 0:\n",
    "        print(i)\n",
    "        m.append(i)\n",
    "    i = i+1\n",
    "\n",
    "print (m)"
   ]
  },
  {
   "cell_type": "markdown",
   "metadata": {},
   "source": [
    "Поскольку есть риск что цикл while никогда не прервется в его тело можно добавит счетчик - переменную которая будет увеличиваться на 1 на каждой итерации. В случае если число итераций больше чем вы ожидаете вы можете добавить условие, которое с помощью функции break прервет выполнение цикла"
   ]
  },
  {
   "cell_type": "code",
   "execution_count": null,
   "metadata": {},
   "outputs": [
    {
     "name": "stdout",
     "output_type": "stream",
     "text": [
      "1 101\n"
     ]
    }
   ],
   "source": [
    "q=1\n",
    "a=0\n",
    "while q<10:\n",
    "    a+=1\n",
    "    if a>100:\n",
    "        break\n",
    "print(q, a)"
   ]
  },
  {
   "cell_type": "markdown",
   "metadata": {},
   "source": [
    "#### волшебные команды в ipynb файлах. Для оценки эффективности кода по скорости исполнения."
   ]
  },
  {
   "cell_type": "code",
   "execution_count": null,
   "metadata": {},
   "outputs": [],
   "source": [
    "import numpy as np"
   ]
  },
  {
   "cell_type": "code",
   "execution_count": null,
   "metadata": {},
   "outputs": [
    {
     "name": "stdout",
     "output_type": "stream",
     "text": [
      "CPU times: total: 0 ns\n",
      "Wall time: 0 ns\n"
     ]
    }
   ],
   "source": [
    "%time\n",
    "x=np.random.rand(100,100)"
   ]
  },
  {
   "cell_type": "code",
   "execution_count": null,
   "metadata": {},
   "outputs": [
    {
     "name": "stdout",
     "output_type": "stream",
     "text": [
      "CPU times: total: 109 ms\n",
      "Wall time: 60.6 ms\n"
     ]
    }
   ],
   "source": [
    "%%time\n",
    "t=100\n",
    "x=np.random.rand(t,t)\n",
    "y=np.random.rand(t,t)\n",
    "z=x.dot(y)\n",
    "z1=np.linalg.det(z)"
   ]
  },
  {
   "cell_type": "code",
   "execution_count": null,
   "metadata": {},
   "outputs": [
    {
     "name": "stdout",
     "output_type": "stream",
     "text": [
      "The slowest run took 4.86 times longer than the fastest. This could mean that an intermediate result is being cached.\n",
      "654 µs ± 431 µs per loop (mean ± std. dev. of 2 runs, 10 loops each)\n"
     ]
    }
   ],
   "source": [
    "%%timeit -n 10 -r 2 #n - number of loops, r - number of runs. The parameters are unnecessary\n",
    "t=100\n",
    "x=np.random.rand(t,t)\n",
    "y=np.random.rand(t,t)\n",
    "z=x.dot(y)\n",
    "z1=np.linalg.det(z)"
   ]
  },
  {
   "cell_type": "markdown",
   "metadata": {},
   "source": [
    "##### <p style=\"text-align:center\">  list comprehension и сопутствующие"
   ]
  },
  {
   "cell_type": "code",
   "execution_count": null,
   "metadata": {},
   "outputs": [],
   "source": [
    "a=[x**2 for x in range(1,10)]\n",
    "b=[]\n",
    "for i in range(1,10):\n",
    "    b.append(i**2)"
   ]
  },
  {
   "cell_type": "code",
   "execution_count": null,
   "metadata": {},
   "outputs": [
    {
     "name": "stdout",
     "output_type": "stream",
     "text": [
      "[1, 4, 9, 16, 25, 36, 49, 64, 81]\n",
      "[1, 4, 9, 16, 25, 36, 49, 64, 81]\n"
     ]
    },
    {
     "data": {
      "text/plain": [
       "False"
      ]
     },
     "metadata": {},
     "output_type": "display_data"
    }
   ],
   "source": [
    "print(a)\n",
    "print(b)\n",
    "a is b"
   ]
  },
  {
   "cell_type": "code",
   "execution_count": null,
   "metadata": {},
   "outputs": [
    {
     "name": "stdout",
     "output_type": "stream",
     "text": [
      "[1, 4, 9, 16, 25, 36, 49, 64, 81]\n",
      "[9, 36, 81]\n",
      "[0, 0, 9, 0, 0, 36, 0, 0, 81]\n"
     ]
    }
   ],
   "source": [
    "a=[x**2 for x in range(1,10)]\n",
    "b=[x**2 for x in range(1,10) if x%3==0]\n",
    "c=[x**2 if x%3==0 else 0 for x in range(1,10)]\n",
    "print(a,b, c, sep=\"\\n\",)"
   ]
  },
  {
   "cell_type": "code",
   "execution_count": null,
   "metadata": {},
   "outputs": [
    {
     "name": "stdout",
     "output_type": "stream",
     "text": [
      "<zip object at 0x00000267E6842980>\n",
      "[(1, 7), (2, 6), (3, 5), (4, 4)]\n",
      "<zip object at 0x00000267E6842980>\n",
      "[]\n"
     ]
    }
   ],
   "source": [
    "#zip function\n",
    "a=list(range(1,5))\n",
    "b=list(range(7,3,-1))\n",
    "c=zip(a,b)\n",
    "print(c)\n",
    "print(list(c))\n",
    "#Этот объект может использоваться лишь раз\n",
    "print(list(c))"
   ]
  },
  {
   "cell_type": "code",
   "execution_count": null,
   "metadata": {},
   "outputs": [
    {
     "data": {
      "text/plain": [
       "[7, 12, 15, 16]"
      ]
     },
     "metadata": {},
     "output_type": "display_data"
    }
   ],
   "source": [
    "d=[a*b for a,b in zip(a,b)]"
   ]
  },
  {
   "cell_type": "code",
   "execution_count": null,
   "metadata": {},
   "outputs": [
    {
     "data": {
      "text/plain": [
       "['a', 'b', 'c', 'aa', 'bb', 'cc', 'aaa', 'bbb', 'ccc', 'aaaa', 'bbbb', 'cccc']"
      ]
     },
     "metadata": {},
     "output_type": "display_data"
    }
   ],
   "source": [
    "d=[a*b for a in range(1,5) for b in (\"a\",\"b\",\"c\")]\n",
    "d"
   ]
  },
  {
   "cell_type": "code",
   "execution_count": null,
   "metadata": {},
   "outputs": [
    {
     "data": {
      "text/plain": [
       "True"
      ]
     },
     "metadata": {},
     "output_type": "display_data"
    }
   ],
   "source": [
    "\"c\" in d"
   ]
  },
  {
   "cell_type": "markdown",
   "metadata": {},
   "source": [
    "##### <p style=\"text-align:center\">  map, reduce и lambda"
   ]
  },
  {
   "cell_type": "code",
   "execution_count": null,
   "metadata": {},
   "outputs": [],
   "source": [
    "#map - применяет функцию к элементам итерабельного объекта."
   ]
  },
  {
   "cell_type": "code",
   "execution_count": null,
   "metadata": {},
   "outputs": [
    {
     "name": "stdout",
     "output_type": "stream",
     "text": [
      "GEOMORPHOLOGY\n",
      "['G', 'E', 'O', 'M', 'O', 'R', 'P', 'H', 'O', 'L', 'O', 'G', 'Y']\n"
     ]
    }
   ],
   "source": [
    "a=\"geOmoRpHologY\"\n",
    "b=str.upper(a)\n",
    "c=map(str.upper,a)\n",
    "print(b, list(c), sep=\"\\n\")"
   ]
  },
  {
   "cell_type": "code",
   "execution_count": null,
   "metadata": {},
   "outputs": [],
   "source": [
    "from math import sqrt"
   ]
  },
  {
   "cell_type": "code",
   "execution_count": null,
   "metadata": {},
   "outputs": [
    {
     "name": "stdout",
     "output_type": "stream",
     "text": [
      "[1.0, 2.449489742783178, 3.3166247903554]\n"
     ]
    }
   ],
   "source": [
    "a=[1,6,11]\n",
    "c=map(sqrt,a)\n",
    "print(list(c), sep=\"\\n\")"
   ]
  },
  {
   "cell_type": "code",
   "execution_count": null,
   "metadata": {},
   "outputs": [],
   "source": [
    "#filter - применяет логическую функцию к элементам интерабельного объекта.\n",
    "# если функция возвращает False, то объект не включается в новый объект"
   ]
  },
  {
   "cell_type": "code",
   "execution_count": null,
   "metadata": {},
   "outputs": [
    {
     "data": {
      "text/plain": [
       "['a', '12r']"
      ]
     },
     "metadata": {},
     "output_type": "display_data"
    }
   ],
   "source": [
    "list(filter(str.isascii,[r\"a\",r\"12r\",r\"Яша\"]))"
   ]
  },
  {
   "cell_type": "code",
   "execution_count": null,
   "metadata": {},
   "outputs": [
    {
     "data": {
      "text/plain": [
       "['весна', 'лето', 'зима', 'осень']"
      ]
     },
     "metadata": {},
     "output_type": "display_data"
    }
   ],
   "source": [
    "#lambda - создание одноразовой функции, так же как zip и map создает одноразовые объекты.\n",
    "# lambda arguments: expression\n",
    "# arguments - список через запятую\n",
    "# expression - некая функция, типа x+y\n",
    "#можно использовать внутри map\n",
    "x=[3,7,1,9]\n",
    "list(map(lambda x: 'зима' if x <=2 or x == 12 else \\\n",
    "   'лето' if x >= 6 and x <= 8 else \\\n",
    "   'весна' if x >= 3 and x <= 5 else \\\n",
    "   'осень', x))"
   ]
  }
 ],
 "metadata": {
  "kernelspec": {
   "display_name": "stats",
   "language": "python",
   "name": "python3"
  },
  "language_info": {
   "name": "python",
   "version": "3.11.5"
  }
 },
 "nbformat": 4,
 "nbformat_minor": 2
}
